{
 "cells": [
  {
   "cell_type": "code",
   "execution_count": 1,
   "metadata": {},
   "outputs": [],
   "source": [
    "from attractors import Attractor\n",
    "import os"
   ]
  },
  {
   "cell_type": "code",
   "execution_count": null,
   "metadata": {},
   "outputs": [],
   "source": [
    "#Needing to comment all of the below"
   ]
  },
  {
   "cell_type": "code",
   "execution_count": 2,
   "metadata": {},
   "outputs": [],
   "source": [
    "# Setup folder for data\n",
    "\n",
    "# Get current working directory\n",
    "cwd = os.getcwd()\n",
    "\n",
    "# Set data folder location\n",
    "data_loc = os.path.join(cwd, \"Attractor_Renders\")\n",
    "\n",
    "# Search for data folder\n",
    "if \"Attractor_Renders\" not in os.listdir(cwd):\n",
    "\n",
    "    # Create data folder if not found\n",
    "    os.makedirs(data_loc)"
   ]
  },
  {
   "cell_type": "code",
   "execution_count": 10,
   "metadata": {},
   "outputs": [
    {
     "name": "stdout",
     "output_type": "stream",
     "text": [
      "Iteration No: 6380 out of 10000\n"
     ]
    }
   ],
   "source": [
    "attractor = Attractor(0.01, 10000)\n",
    "\n",
    "lorenz_starting = [(0.1 + 0.1*(x), 2., 1.5,) for x in range(10)]\n",
    "newton_starting = [(0.349 - 0.001*(x), 0, 0.16 + 0.01*(x)) for x in range(10)]\n",
    "thomas_starting = [(0+0.01*(x), 0.03+0.01*(x), -0.11 - 0.01*(x)) for x in range(10)]\n",
    "sprott_starting = [(0.63 + 0.01*(x), 0.47 + 0.01*(x), -0.54 - 0.01*(x)) for x in range(10)]\n",
    "aizawa_starting = [(0.1, 1, 0.01 + 0.01*(x+1)) for x in range(10)]\n",
    "halvorsen_starting = [(0, -1.51, 2.04 + 0.01*(x)) for x in range(10)]\n",
    "\n",
    "\n",
    "lorenz_system = [attractor.create_points(start, attractor.lorenz) for start in lorenz_starting]\n",
    "newton_system = [attractor.create_points(start, attractor.newton_leipnik) for start in newton_starting]\n",
    "sprott_system = [attractor.create_points(start, attractor.sprott) for start in sprott_starting]\n",
    "aizawa_system = [attractor.create_points(start, attractor.aizawa) for start in aizawa_starting]\n",
    "thomas_system = [attractor.create_points(start, attractor.thomas) for start in thomas_starting]\n",
    "halvorsen_system = [attractor.create_points(start, attractor.halvorsen) for start in halvorsen_starting]\n",
    "\n",
    "\n",
    "systems = [lorenz_system, newton_system, thomas_system, sprott_system, aizawa_system, halvorsen_system]\n",
    "labels = [\"Lorenz\", \"Newton-Leipnik\", \"Thomas\", \"Sprott\", \"Aizawa\", \"Halvorsen\"]\n",
    "\n",
    "for chaotic_system, label in zip(systems, labels):\n",
    "    attractor.draw_figure(label, chaotic_system)\n"
   ]
  }
 ],
 "metadata": {
  "kernelspec": {
   "display_name": ".venv",
   "language": "python",
   "name": "python3"
  },
  "language_info": {
   "codemirror_mode": {
    "name": "ipython",
    "version": 3
   },
   "file_extension": ".py",
   "mimetype": "text/x-python",
   "name": "python",
   "nbconvert_exporter": "python",
   "pygments_lexer": "ipython3",
   "version": "3.11.3"
  },
  "orig_nbformat": 4
 },
 "nbformat": 4,
 "nbformat_minor": 2
}
