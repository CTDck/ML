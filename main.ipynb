{
 "cells": [
  {
   "cell_type": "code",
   "execution_count": null,
   "metadata": {},
   "outputs": [],
   "source": [
    "import numpy as np\n",
    "import matplotlib.pyplot as plt\n",
    "import pandas as pd\n",
    "import os\n",
    "from data_generation import Sinusoids, apply_ft, apply_noise"
   ]
  },
  {
   "cell_type": "code",
   "execution_count": null,
   "metadata": {},
   "outputs": [],
   "source": [
    "# Define array sizes and data sizes here \n",
    "#Size of x, y arrays created\n",
    "ARRAY_SIZE = 1000\n",
    "\n",
    "#Total number of functions to generate both noisy and clean\n",
    "DATA_SIZE = 100"
   ]
  },
  {
   "cell_type": "code",
   "execution_count": null,
   "metadata": {},
   "outputs": [],
   "source": [
    "# Setup folder for data\n",
    "\n",
    "# Get current working directory\n",
    "cwd = os.getcwd()\n",
    "\n",
    "# Set data folder location\n",
    "data_loc = os.path.join(cwd, \"Data\")\n",
    "\n",
    "# Search for data folder\n",
    "if \"Data\" not in os.listdir(cwd):\n",
    "\n",
    "    # Create data folder if not found\n",
    "    os.makedirs(data_loc)"
   ]
  },
  {
   "cell_type": "code",
   "execution_count": null,
   "metadata": {},
   "outputs": [],
   "source": [
    "sinusoids = Sinusoids(DATA_SIZE, ARRAY_SIZE)\n",
    "data_set = sinusoids.create_data()"
   ]
  },
  {
   "cell_type": "code",
   "execution_count": null,
   "metadata": {},
   "outputs": [],
   "source": [
    "# Create n clean data sets with random period\n",
    "x_vals = data_set[\"X\"]\n",
    "y_vals = data_set[\"Y\"]\n",
    "classification = data_set[\"Classification\"]\n",
    "\n",
    "# Create a noisy data set and classifier list\n",
    "y_vals_noise = apply_noise(x_vals, ARRAY_SIZE)\n",
    "classification_noise = [\"Noisy\" for i in range(len(x_vals))]\n",
    "\n",
    "data_set[\"X\"] = x_vals + x_vals\n",
    "data_set[\"Y\"] = y_vals + y_vals_noise\n",
    "data_set[\"Classification\"] = classification + classification_noise"
   ]
  },
  {
   "cell_type": "code",
   "execution_count": null,
   "metadata": {},
   "outputs": [],
   "source": [
    "# Create a pandas dataframe and export to the data location provided above\n",
    "data = pd.DataFrame(data_set)\n",
    "data.to_csv(f\"{data_loc}/data.csv\")"
   ]
  },
  {
   "cell_type": "code",
   "execution_count": null,
   "metadata": {},
   "outputs": [],
   "source": [
    "# Load each each column respectively\n",
    "y_data = np.asarray(data[\"Y\"])\n",
    "x_data = np.asarray(data[\"X\"])\n",
    "\n",
    "# Create a random test index list\n",
    "index = [np.random.randint(1, DATA_SIZE) for x in range(3)]\n",
    "\n",
    "# Loop over the index list and plot the respective noisy and clean functions\n",
    "for i in index:\n",
    "    plt.figure(figsize=[15,10])\n",
    "    plt.suptitle(\"Example output of clean and noisy data with respective FFTs\")\n",
    "    plt.subplot(221)\n",
    "    plt.title(\"Clean\")\n",
    "    plt.plot(x_data[i], y_data[i])\n",
    "    plt.xlabel(\"X\")\n",
    "    plt.ylabel(\"Y\")\n",
    "\n",
    "    plt.subplot(222)\n",
    "    plt.title(\"Clean FFT\")\n",
    "    plt.plot(np.fft.rfftfreq(len(y_data[i])), apply_ft(y_data[i]))\n",
    "    plt.xlabel(\"X\")\n",
    "    plt.ylabel(\"Y\")\n",
    "\n",
    "    plt.subplot(223)\n",
    "    plt.title(\"Noisy\")\n",
    "    plt.plot(x_data[i+DATA_SIZE], y_data[i+DATA_SIZE])\n",
    "    plt.xlabel(\"X\")\n",
    "    plt.ylabel(\"Y\")\n",
    "\n",
    "    plt.subplot(224)\n",
    "    plt.title(\"Noisy FFT\")\n",
    "    plt.plot(np.fft.rfftfreq(len(y_data[i+DATA_SIZE])), apply_ft(y_data[i]))\n",
    "    plt.xlabel(\"X\")\n",
    "    plt.ylabel(\"Y\")\n",
    "    plt.tight_layout()\n",
    "    plt.savefig(f\"Data/Example_output{i}.png\")\n",
    "    plt.show()"
   ]
  },
  {
   "cell_type": "code",
   "execution_count": null,
   "metadata": {},
   "outputs": [],
   "source": [
    "# Import the required modules from sklearn, for embedding NCA is used, KNN is used as the classifier\n",
    "from sklearn.model_selection import train_test_split\n",
    "from sklearn.preprocessing import MinMaxScaler\n",
    "from sklearn.pipeline import make_pipeline\n",
    "from sklearn.neighbors import NeighborhoodComponentsAnalysis, KNeighborsClassifier\n",
    "from sklearn.inspection import DecisionBoundaryDisplay"
   ]
  },
  {
   "cell_type": "code",
   "execution_count": null,
   "metadata": {},
   "outputs": [],
   "source": [
    "# Separate data into features and labels for classification\n",
    "features = np.asarray([apply_ft(y_data[i]) for i in range(len(x_data))])\n",
    "labels = data[\"Classification\"]\n",
    "\n",
    "# Split the data set\n",
    "X_train, X_test, y_train, y_test = train_test_split(\n",
    "    features, labels, test_size=0.5)\n",
    "\n",
    "# Condenses scaling operations into an embedding process\n",
    "emb = make_pipeline(\n",
    "    MinMaxScaler(),  NeighborhoodComponentsAnalysis(n_components=2))\n",
    "\n",
    "# Fit the embedding to the training data\n",
    "emb.fit(X_train, y_train)\n",
    "\n",
    "# Apply the embedding across all data sets\n",
    "x_train_transform = emb.transform(X_train)\n",
    "x_test_transform = emb.transform(X_test)\n",
    "embedded_features = np.append(x_train_transform, x_test_transform, axis=0)\n",
    "\n",
    "# Setup classifier and fit to embedded training set\n",
    "clf = KNeighborsClassifier(n_neighbors=4)\n",
    "clf.fit(x_train_transform, y_train)\n",
    "accuracy = clf.score(x_test_transform, y_test)\n",
    "# Plot the result\n",
    "disp = DecisionBoundaryDisplay.from_estimator(\n",
    "    clf, embedded_features, response_method=\"predict_proba\")\n",
    "outcomes = [\"Clean\", \"Noisy\"]\n",
    "for outcome in outcomes:\n",
    "    x_train_outcome = x_train_transform[[y == outcome for y in y_train]]\n",
    "    ax1 = disp.ax_.scatter(*x_train_outcome.T, label=f\"{outcome}-Train\")\n",
    "    x_test_outcome = x_test_transform[[y == outcome for y in y_test]]\n",
    "    ax2 = disp.ax_.scatter(\n",
    "        *x_test_outcome.T, label=f\"{outcome}-Test\", marker=\"x\")\n",
    "    disp.ax_.legend(fontsize=\"7\")\n",
    "    disp.ax_.set_xlabel(\"Embedding Space X\")\n",
    "    disp.ax_.set_ylabel(\"Embedding Space Y\")\n",
    "cbar = disp.figure_.colorbar(ax1, label=\"Likelihood of Outcome\", ticks=[0, 1])\n",
    "cbar.set_ticklabels(outcomes)\n",
    "plt.title(f\"NCA with KNN Classification\\nAccuracy: {accuracy*100}%\")\n",
    "plt.tight_layout()\n",
    "plt.show()"
   ]
  },
  {
   "cell_type": "code",
   "execution_count": null,
   "metadata": {},
   "outputs": [],
   "source": [
    "#Create new unseen dataset\n",
    "x_new = np.linspace(0, 2*np.pi, ARRAY_SIZE)\n",
    "y_new_noisy = np.abs(np.fft.rfft(np.sin(x_new) + np.random.normal(0, .5, ARRAY_SIZE)))\n",
    "y_new_clean = np.abs(np.fft.rfft(2*np.sin(x_new) + 8*np.cos(x_new)))\n",
    "\n",
    "noisy_result = clf.predict(emb.transform(y_new_noisy.reshape(1, -1)))\n",
    "clean_result = clf.predict(emb.transform(y_new_clean.reshape(1, -1)))\n",
    "\n",
    "print(f\"Clean: {clean_result}\")\n",
    "print(f\"Noisy: {noisy_result}\")"
   ]
  }
 ],
 "metadata": {
  "kernelspec": {
   "display_name": ".venv",
   "language": "python",
   "name": "python3"
  },
  "language_info": {
   "codemirror_mode": {
    "name": "ipython",
    "version": 3
   },
   "file_extension": ".py",
   "mimetype": "text/x-python",
   "name": "python",
   "nbconvert_exporter": "python",
   "pygments_lexer": "ipython3",
   "version": "3.11.3"
  },
  "orig_nbformat": 4
 },
 "nbformat": 4,
 "nbformat_minor": 2
}
